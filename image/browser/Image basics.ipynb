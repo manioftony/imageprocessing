{
 "cells": [
  {
   "cell_type": "code",
   "execution_count": 1,
   "metadata": {
    "collapsed": true
   },
   "outputs": [],
   "source": [
    "import cv2\n",
    "import numpy as np"
   ]
  },
  {
   "cell_type": "code",
   "execution_count": 3,
   "metadata": {
    "collapsed": true
   },
   "outputs": [],
   "source": [
    "import cv2\n",
    "image = cv2.imread(\"../image/shape.jpg\")\n",
    "cv2.imshow(\"orginal\",image)\n",
    "cv2.waitKey()\n",
    "#convert inti gray scale\n",
    "gray_image = cv2.cvtColor(image,cv2.COLOR_BGR2GRAY)\n",
    "\n",
    "cv2.imshow(\"gray\",gray_image)\n",
    "cv2.waitKey()\n",
    "cv2.destroyAllWindows()"
   ]
  },
  {
   "cell_type": "code",
   "execution_count": 2,
   "metadata": {
    "collapsed": true
   },
   "outputs": [],
   "source": [
    "import cv2\n",
    "image = cv2.imread(\"../image/shape.jpg\",0)\n",
    "cv2.imshow(\"orginal\",image)\n",
    "cv2.waitKey()\n",
    "cv2.destroyAllWindows()"
   ]
  },
  {
   "cell_type": "code",
   "execution_count": 6,
   "metadata": {},
   "outputs": [
    {
     "name": "stdout",
     "output_type": "stream",
     "text": [
      "255 254 255\n"
     ]
    }
   ],
   "source": [
    "import cv2\n",
    "image = cv2.imread(\"../image/shape.jpg\")\n",
    "B,G,R = image[10,50]\n",
    "print B,G,R "
   ]
  },
  {
   "cell_type": "code",
   "execution_count": 9,
   "metadata": {},
   "outputs": [
    {
     "data": {
      "image/png": "[encoded data removed]",
      "text/plain": [
       "<matplotlib.figure.Figure at 0x7f4ef82d4550>"
      ]
     },
     "metadata": {},
     "output_type": "display_data"
    },
    {
     "data": {
      "image/png": "[encoded data removed]",
      "text/plain": [
       "<matplotlib.figure.Figure at 0x7f4ee6f02c50>"
      ]
     },
     "metadata": {},
     "output_type": "display_data"
    }
   ],
   "source": [
    "import cv2\n",
    "import numpy as np\n",
    "\n",
    "\n",
    "from matplotlib import  pyplot as plt\n",
    "\n",
    "image = cv2.imread(\"../image/shape.jpg\")\n",
    "histogram = cv2.calcHist([image],[0],None,[256],[0,2561])\n",
    "\n",
    "plt.hist(image.ravel(),256,[0,256]);plt.show()\n",
    "\n",
    "color = ('b','g','r')\n",
    "\n",
    "\n",
    "\n",
    "\n",
    "\n",
    "\n",
    "\n",
    "\n",
    "\n",
    "for i,col in enumerate(color):\n",
    "    histogram2 = cv2.calcHist([image],[i],None,[256],[0,256])\n",
    "    plt.plot(histogram2,color=col)\n",
    "    plt.xlim([0,256])\n",
    "plt.show()\n",
    "\n",
    "\n",
    "\n",
    "\n",
    "\n",
    "\n",
    "\n",
    "\n",
    "\n",
    "\n",
    "\n",
    "\n",
    "\n",
    "\n",
    "\n",
    "\n",
    "\n",
    "\n",
    "\n",
    "\n",
    "\n"
   ]
  },
  {
   "cell_type": "markdown",
   "metadata": {},
   "source": [
    "\n"
   ]
  },
  {
   "cell_type": "code",
   "execution_count": 2,
   "metadata": {
    "collapsed": true
   },
   "outputs": [],
   "source": [
    "import cv2\n",
    "import numpy as np\n",
    "\n",
    "image = np.zeros((512,512,3),np.uint8)\n",
    "image_bw = np.zeros((512,512),np.uint8)\n",
    "\n",
    "cv2.imshow(\"image\",image)\n",
    "cv2.imshow(\"image (B&W)\",image_bw)\n",
    "cv2.waitKey(0)\n",
    "cv2.destroyAllWindows()\n"
   ]
  },
  {
   "cell_type": "code",
   "execution_count": 2,
   "metadata": {
    "collapsed": true
   },
   "outputs": [],
   "source": [
    "## draw lines\n",
    "image = np.zeros((512,512,3),np.uint8)\n",
    "cv2.line(image,(0,0),(511,511),(255,127,9),5)\n",
    "cv2.imshow(\"line\",image)\n",
    "cv2.waitKey(0)\n",
    "cv2.destroyAllWindows()\n",
    "\n"
   ]
  },
  {
   "cell_type": "code",
   "execution_count": 2,
   "metadata": {
    "collapsed": true
   },
   "outputs": [],
   "source": [
    "import cv2\n",
    "import numpy as np\n",
    "\n",
    "image = cv2.imread(\"../image/shape.jpg\")\n",
    "\n",
    "# store width and height of image\n",
    "height,width = image.shape[:2]\n",
    "quarter_height,quarter_width = height/4,width/4\n",
    "\n",
    "# T is a transmission matrix\n",
    "\n",
    "T = np.float32([[1,0,quarter_height],[0,1,quarter_height]])\n",
    "\n",
    "# we use warpAffine to transform image using matrix\n",
    "\n",
    "img_trans = cv2.warpAffine(image,T,(width,height))\n",
    "cv2.imshow(\"Translation\",img_trans)\n",
    "cv2.waitKey(0)\n",
    "cv2.destroyAllWindows()\n"
   ]
  },
  {
   "cell_type": "code",
   "execution_count": 2,
   "metadata": {
    "collapsed": true
   },
   "outputs": [],
   "source": [
    "# opencv rotation matrix\n",
    "# opencv allow you scale and roate at the same thing using function\n",
    "\n",
    "\n",
    "\n",
    "\n",
    "import cv2\n",
    "import numpy as np\n",
    "\n",
    "\n",
    "\n",
    "image = cv2.imread(\"../image/shape.jpg\")\n",
    "height,width = image.shape[:2]\n",
    "\n",
    "rotationmatrix = cv2.getRotationMatrix2D((width/2,height/2),90,1)\n",
    "rotation_image = cv2.warpAffine(image,rotationmatrix,(width,height))\n",
    "cv2.imshow(\"rotated image\",rotation_image)\n",
    "\n",
    "cv2.waitKey(0)\n",
    "cv2.destroyAllWindows()\n"
   ]
  },
  {
   "cell_type": "code",
   "execution_count": 2,
   "metadata": {
    "collapsed": true
   },
   "outputs": [],
   "source": [
    "# what is interpolation\n",
    "# its a resize image\n",
    "# its method of constructing new data points with in range of discreate set of known points\n",
    "# scaling and re -sizing and interpolations\n",
    "import cv2\n",
    "import numpy as np\n",
    "\n",
    "image = cv2.imread(\"../image/shape.jpg\")\n",
    "\n",
    "#make our image 3/4\n",
    "image_scaled = cv2.resize(image,None,fx=0.75,fy=0.75)\n",
    "cv2.imshow(\"Scaling - Linter intgration\",image_scaled)\n",
    "cv2.waitKey()\n",
    "\n",
    "#lets double size image\n",
    "image_scaled = cv2.resize(image,None,fx=2,fy=2,interpolation=cv2.INTER_CUBIC)\n",
    "cv2.imshow(\"Scaling - Cubic intgration\",image_scaled)\n",
    "cv2.waitKey()\n",
    "\n",
    "#skew the re-sizing by setting exact information\n",
    "image_scaled = cv2.resize(image,(900,400),interpolation=cv2.INTER_AREA)\n",
    "cv2.imshow(\"Scaling-Skewed Size\",image_scaled)\n",
    "cv2.waitKey()\n",
    "\n",
    "cv2.destroyAllWindows()\n",
    "\n",
    "\n",
    "\n",
    "\n",
    "\n",
    "\n",
    "\n",
    "\n",
    "\n",
    "\n",
    "\n"
   ]
  },
  {
   "cell_type": "code",
   "execution_count": 2,
   "metadata": {},
   "outputs": [],
   "source": [
    "#image  pyramids\n",
    "\n",
    "\n",
    "\n",
    "import cv2\n",
    "import numpy as np\n",
    "\n",
    "image = cv2.imread(\"../image/shape.jpg\")\n",
    "\n",
    "smaller = cv2.pyrDown(image)\n",
    "larger = cv2.pyrUp(smaller)\n",
    "\n",
    "cv2.imshow(\"orginal\",image)\n",
    "cv2.imshow(\"Smaller\",smaller)\n",
    "cv2.imshow(\"larger\",larger)\n",
    "\n",
    "cv2.waitKey(0)\n",
    "cv2.destroyAllWindows()\n",
    "\n",
    "\n",
    "\n",
    "\n"
   ]
  },
  {
   "cell_type": "code",
   "execution_count": 5,
   "metadata": {},
   "outputs": [
    {
     "name": "stdout",
     "output_type": "stream",
     "text": [
      "214\n",
      "328\n"
     ]
    }
   ],
   "source": [
    "# image cropping \n",
    "\n",
    "\n",
    "import cv2\n",
    "import numpy as np\n",
    "\n",
    "\n",
    "image = cv2.imread(\"../image/shape.jpg\")\n",
    "\n",
    "height,width = image.shape[:2]\n",
    "print height\n",
    "print width\n",
    "\n",
    "# lets pixel cordinate top left cropping\n",
    "\n",
    "start_row,start_col = int(height*.25),int(width*.25)\n",
    "\n",
    "# lets get the ending pixel coordinate(bottom right)\n",
    "\n",
    "end_row,end_col =  int(height*.75),int(width*.75)\n",
    "\n",
    "# simple using index croping \n",
    "\n",
    "cropped = image[start_row:end_row,start_col:end_col]\n",
    "\n",
    "cv2.imshow(\"orginal image\",image)\n",
    "cv2.waitKey(0)\n",
    "cv2.imshow(\"crapped image\",cropped)\n",
    "cv2.waitKey(0)\n",
    "cv2.destroyAllWindows()\n",
    "\n",
    "\n",
    "\n",
    "\n",
    "\n",
    "\n",
    "\n",
    "\n",
    "\n"
   ]
  },
  {
   "cell_type": "code",
   "execution_count": 2,
   "metadata": {},
   "outputs": [],
   "source": [
    "# Arithmetic operation\n",
    "\n",
    "import cv2\n",
    "import numpy as np\n",
    "\n",
    "image = cv2.imread(\"../image/shape.jpg\")\n",
    "\n",
    "\n",
    "# create matrix of ones  then multiply by a scalar of 100\n",
    "# they gives matrix same dimesions of our image all values being of 100\n",
    "\n",
    "M = np.ones(image.shape,dtype=\"uint8\")*75\n",
    "\n",
    "# we use add the matrix m to our image\n",
    "# Notice the increase in brightness\n",
    "\n",
    "added = cv2.add(image,M)\n",
    "cv2.imshow(\"Added\",added)\n",
    "\n",
    "# subtract image\n",
    "\n",
    "\n",
    "subtracted = cv2.subtract(image,M)\n",
    "cv2.imshow(\"Subtracted\",subtracted)\n",
    "\n",
    "cv2.waitKey(0)\n",
    "cv2.destroyAllWindows()\n",
    "\n",
    "\n",
    "\n",
    "\n",
    "\n",
    "\n",
    "\n",
    "\n",
    "\n",
    "\n",
    "\n",
    "\n",
    "\n",
    "\n",
    "\n",
    "\n",
    "\n",
    "\n",
    "\n",
    "\n",
    "\n"
   ]
  },
  {
   "cell_type": "code",
   "execution_count": null,
   "metadata": {
    "collapsed": true
   },
   "outputs": [],
   "source": []
  }
 ],
 "metadata": {
  "kernelspec": {
   "display_name": "Python 2",
   "language": "python",
   "name": "python2"
  },
  "language_info": {
   "codemirror_mode": {
    "name": "ipython",
    "version": 2
   },
   "file_extension": ".py",
   "mimetype": "text/x-python",
   "name": "python",
   "nbconvert_exporter": "python",
   "pygments_lexer": "ipython2",
   "version": "2.7.12"
  }
 },
 "nbformat": 4,
 "nbformat_minor": 2
}
