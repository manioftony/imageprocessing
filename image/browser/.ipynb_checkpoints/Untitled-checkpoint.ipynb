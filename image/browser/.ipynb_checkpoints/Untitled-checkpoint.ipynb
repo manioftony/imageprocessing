{
 "cells": [
  {
   "cell_type": "code",
   "execution_count": 1,
   "metadata": {
    "collapsed": true
   },
   "outputs": [],
   "source": [
    "import cv2\n",
    "from matplotlib import  pyplot as plt\n",
    "import numpy as np\n",
    "from math import cos,sin\n",
    "from __future__ import division\n",
    "\n",
    "\n",
    "\n"
   ]
  },
  {
   "cell_type": "code",
   "execution_count": null,
   "metadata": {
    "collapsed": true
   },
   "outputs": [],
   "source": [
    "def god(image):\n",
    "    # RGB is red green blue\n",
    "    # BGR is blue green red\n",
    "    # order of color in memory\n",
    "    # its byte memory in ordering \n",
    "    \n",
    "    #Step1 convert into correct color scheme\n",
    "    image = cv2.cvtColor(image,cv2.COLOR_BGR2RGB)\n",
    "    \n",
    "    #Step2 scale our image properly\n",
    "    max_dimension = max(image.shape)\n",
    "    scale = 700/max_dimension\n",
    "    image = cv2.resize(image,None ,fx=scale,fy=scale)\n",
    "    \n",
    "    #step2 clean our image\n",
    "    image_blur = cv2.GaussianBlur(image,(7,7),0 )\n",
    "    #BGR image to HSV, we can use this to extract a colored object.\n",
    "    image_blur_hsv = cv2.cvtColor(image_blur,cv2.COLOR_RGB2HSV)\n",
    "    # define filters\n",
    "    # filter by color\n",
    "    min_red = np.array([0,100,80])\n",
    "    max_red = np.array([10,256,256])\n",
    "    \n",
    "    mask1 =  cv2.inRange(image_blur_hsv,min_red,max_red)\n",
    "    \n",
    "    #brightness by brightness\n",
    "    \n",
    "    min_red2 = np.array([170,100,80])\n",
    "    max_red2 = np.array([180,256,256])\n",
    "    \n",
    "    mask2 = cv2.inRange(image_blur_hsv,min_red2,max_red2)\n",
    "    \n",
    "    #takes two masks\n",
    "    #combine our masks\n",
    "    \n",
    "    mask = mask1+mask2\n",
    "    \n",
    "    \n",
    "    \n",
    "    \n",
    "    \n",
    "    \n",
    "    \n",
    "    \n",
    "    \n",
    "    \n",
    "    \n",
    "    \n",
    "    \n",
    "    \n",
    "    \n",
    "    \n",
    "    \n",
    "    \n",
    "    \n",
    "    \n",
    "    \n",
    "    \n",
    "    \n",
    "    \n",
    "    \n",
    "    \n",
    "    \n",
    "    "
   ]
  }
 ],
 "metadata": {
  "kernelspec": {
   "display_name": "Python 2",
   "language": "python",
   "name": "python2"
  },
  "language_info": {
   "codemirror_mode": {
    "name": "ipython",
    "version": 2
   },
   "file_extension": ".py",
   "mimetype": "text/x-python",
   "name": "python",
   "nbconvert_exporter": "python",
   "pygments_lexer": "ipython2",
   "version": "2.7.12"
  }
 },
 "nbformat": 4,
 "nbformat_minor": 2
}
